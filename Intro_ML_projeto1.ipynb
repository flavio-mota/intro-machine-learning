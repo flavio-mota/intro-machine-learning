{
  "nbformat": 4,
  "nbformat_minor": 0,
  "metadata": {
    "colab": {
      "name": "Intro ML - projeto1.ipynb",
      "provenance": []
    },
    "kernelspec": {
      "name": "python3",
      "display_name": "Python 3"
    }
  },
  "cells": [
    {
      "cell_type": "code",
      "metadata": {
        "id": "sDUom0t89xxD"
      },
      "source": [
        "# features (1 sim, 0 não)\r\n",
        "# pelo longo?\r\n",
        "# perna curta?\r\n",
        "# faz auau?\r\n",
        "porco1 = [0, 1, 0]\r\n",
        "porco2 = [0, 1, 1]\r\n",
        "porco3 = [1, 1, 0]\r\n",
        "\r\n",
        "cachorro1 = [0, 1, 1]\r\n",
        "cachorro2 = [1, 0, 1]\r\n",
        "cachorro3 = [1, 1, 1]\r\n",
        "\r\n",
        "# 1=> porco, 0=> cachorro\r\n",
        "treino_x = [porco1, porco2, porco3, cachorro1, cachorro2, cachorro3]\r\n",
        "treino_y = [1,1,1,0,0,0]"
      ],
      "execution_count": null,
      "outputs": []
    },
    {
      "cell_type": "code",
      "metadata": {
        "colab": {
          "base_uri": "https://localhost:8080/"
        },
        "id": "7PsIrXfVBCpI",
        "outputId": "770df06e-c88e-485c-b052-827b43a26f2e"
      },
      "source": [
        "from sklearn.svm import LinearSVC\r\n",
        "\r\n",
        "model = LinearSVC()\r\n",
        "\r\n",
        "model.fit(treino_x, treino_y)"
      ],
      "execution_count": null,
      "outputs": [
        {
          "output_type": "execute_result",
          "data": {
            "text/plain": [
              "LinearSVC(C=1.0, class_weight=None, dual=True, fit_intercept=True,\n",
              "          intercept_scaling=1, loss='squared_hinge', max_iter=1000,\n",
              "          multi_class='ovr', penalty='l2', random_state=None, tol=0.0001,\n",
              "          verbose=0)"
            ]
          },
          "metadata": {
            "tags": []
          },
          "execution_count": 2
        }
      ]
    },
    {
      "cell_type": "code",
      "metadata": {
        "colab": {
          "base_uri": "https://localhost:8080/"
        },
        "id": "uaAaBgE8BmgX",
        "outputId": "bf4d7f2f-7b1b-4637-df8c-c57bbad8e841"
      },
      "source": [
        "animal_misterioso = [1,1,1]\r\n",
        "model.predict([animal_misterioso])"
      ],
      "execution_count": null,
      "outputs": [
        {
          "output_type": "execute_result",
          "data": {
            "text/plain": [
              "array([0])"
            ]
          },
          "metadata": {
            "tags": []
          },
          "execution_count": 3
        }
      ]
    },
    {
      "cell_type": "code",
      "metadata": {
        "id": "EHtkEp5mBx7f"
      },
      "source": [
        "misterio1 = [1,1,1]\r\n",
        "misterio2 = [1,1,0]\r\n",
        "misterio3 = [0,1,1]\r\n",
        "\r\n",
        "teste_x = [misterio1, misterio2, misterio3]\r\n",
        "teste_y = [0,1,1]\r\n",
        "previsoes = model.predict(teste_x)"
      ],
      "execution_count": null,
      "outputs": []
    },
    {
      "cell_type": "code",
      "metadata": {
        "colab": {
          "base_uri": "https://localhost:8080/"
        },
        "id": "YYt79hasClFX",
        "outputId": "fc353521-e4c5-4467-bce1-5bb4de94a235"
      },
      "source": [
        "corretos = (previsoes == teste_y).sum()\r\n",
        "total = len(teste_x)\r\n",
        "taxa_de_acerto = corretos/total\r\n",
        "print(\"Taxa de acerto: %.2f\" % (taxa_de_acerto*100))"
      ],
      "execution_count": null,
      "outputs": [
        {
          "output_type": "stream",
          "text": [
            "Taxa de acerto: 66.67\n"
          ],
          "name": "stdout"
        }
      ]
    },
    {
      "cell_type": "code",
      "metadata": {
        "colab": {
          "base_uri": "https://localhost:8080/"
        },
        "id": "EwGeYh8fCqT2",
        "outputId": "6f491428-ae86-4fee-ded1-c05eaf201d36"
      },
      "source": [
        "from sklearn.metrics import accuracy_score\r\n",
        "\r\n",
        "taxa_de_acerto = accuracy_score(teste_y, previsoes)\r\n",
        "print(\"Taxa de acerto: %.2f\" % (taxa_de_acerto*100))"
      ],
      "execution_count": null,
      "outputs": [
        {
          "output_type": "stream",
          "text": [
            "Taxa de acerto: 66.67\n"
          ],
          "name": "stdout"
        }
      ]
    },
    {
      "cell_type": "code",
      "metadata": {
        "id": "epDh7JxkDoDP"
      },
      "source": [
        ""
      ],
      "execution_count": null,
      "outputs": []
    }
  ]
}